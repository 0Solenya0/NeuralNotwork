{
 "cells": [
  {
   "cell_type": "code",
   "execution_count": 1,
   "id": "initial_id",
   "metadata": {
    "collapsed": true,
    "ExecuteTime": {
     "end_time": "2023-11-29T21:15:25.741891345Z",
     "start_time": "2023-11-29T21:15:25.342822625Z"
    }
   },
   "outputs": [],
   "source": [
    "import numpy as np\n",
    "from matplotlib import pyplot as plt\n",
    "from tqdm import tqdm\n",
    "\n",
    "class GraphRMDPEnv:\n",
    "    def __init__(self, state_size, action_size, ambiguity_size, seed=42):\n",
    "        self.chosen_ambiguity = None\n",
    "        self.location = None\n",
    "        self.state_size = state_size\n",
    "        self.action_size = action_size\n",
    "        self.ambiguity_size = ambiguity_size\n",
    "        np.random.seed(seed)\n",
    "\n",
    "        self.rewards = np.random.random((action_size, state_size, state_size))\n",
    "\n",
    "        un_normalized = np.random.random((ambiguity_size, action_size, state_size, state_size))\n",
    "        self.ambiguity_set = un_normalized / np.sum(un_normalized, axis=-1, keepdims=True)\n",
    "\n",
    "        un_normalized = np.random.random(ambiguity_size)\n",
    "        self.ambiguity_probs = un_normalized / un_normalized.sum()\n",
    "\n",
    "    def reset(self, chosen_ambiguity):\n",
    "        self.location = 0\n",
    "        self.chosen_ambiguity = chosen_ambiguity\n",
    "        return self.location\n",
    "\n",
    "    def step(self, action):\n",
    "        next_states_prob = self.ambiguity_set[self.chosen_ambiguity, action, self.location, :]\n",
    "        next_state = np.random.choice(self.state_size, 1, p=next_states_prob)[0]\n",
    "        reward = self.rewards[action, self.location, next_state]\n",
    "        self.location = next_state\n",
    "        return self.location, reward"
   ]
  },
  {
   "cell_type": "code",
   "execution_count": 2,
   "outputs": [],
   "source": [
    "def epsilon_greedy_action(state, q_table, epsilon):\n",
    "    r = np.random.random(1)[0]\n",
    "    if r < epsilon:\n",
    "        return np.random.choice(q_table.shape[1], 1)[0]\n",
    "    else:\n",
    "        return np.argmax(q_table[state, :])\n",
    "\n",
    "\n",
    "def q_learning(env, n_episodes, n_steps, learning_rate, gamma, epsilon_min, epsilon, epsilon_decay, chosen_ambiguity=None):\n",
    "    q_table = np.zeros((env.state_size, env.action_size))\n",
    "    episode_rewards = []\n",
    "    for episode in tqdm(range(n_episodes)):\n",
    "        epsilon = max(epsilon_min, epsilon * epsilon_decay)\n",
    "        if chosen_ambiguity is not None:\n",
    "            state = env.reset(chosen_ambiguity=chosen_ambiguity)\n",
    "        else:\n",
    "            state = env.reset()\n",
    "        episode_reward = 0\n",
    "        for i in range(n_steps):\n",
    "            action = epsilon_greedy_action(state, q_table, epsilon)\n",
    "            next_state, reward = env.step(action)\n",
    "            episode_reward += reward\n",
    "            q_table[state, action] += learning_rate * (\n",
    "                reward + gamma * np.max(q_table[next_state, :])\n",
    "                - q_table[state, action]\n",
    "            )\n",
    "            state = next_state\n",
    "        episode_rewards.append(episode_reward)\n",
    "    return episode_rewards, q_table"
   ],
   "metadata": {
    "collapsed": false,
    "ExecuteTime": {
     "end_time": "2023-11-29T21:15:25.758173493Z",
     "start_time": "2023-11-29T21:15:25.746645774Z"
    }
   },
   "id": "327da400df81dba7"
  },
  {
   "cell_type": "code",
   "execution_count": 3,
   "outputs": [],
   "source": [
    "state_size = 10\n",
    "act_size = 4\n",
    "amb_size = 5\n",
    "check_steps = 100\n",
    "check_gamma = 0.9\n",
    "graph_env = GraphRMDPEnv(state_size=state_size, action_size=act_size, ambiguity_size=amb_size)"
   ],
   "metadata": {
    "collapsed": false,
    "ExecuteTime": {
     "end_time": "2023-11-29T21:15:25.759571356Z",
     "start_time": "2023-11-29T21:15:25.750739184Z"
    }
   },
   "id": "717effb27800d18"
  },
  {
   "cell_type": "code",
   "execution_count": 4,
   "outputs": [
    {
     "name": "stderr",
     "output_type": "stream",
     "text": [
      "100%|██████████| 10000/10000 [00:44<00:00, 226.35it/s]\n",
      "100%|██████████| 10000/10000 [00:45<00:00, 221.37it/s]\n",
      "100%|██████████| 10000/10000 [00:44<00:00, 223.21it/s]\n",
      "100%|██████████| 10000/10000 [00:46<00:00, 217.08it/s]\n",
      "100%|██████████| 10000/10000 [00:47<00:00, 212.14it/s]\n"
     ]
    }
   ],
   "source": [
    "# best policy for each of ambiguity sets\n",
    "rewards = []\n",
    "q_tables = np.zeros((amb_size, state_size, act_size))\n",
    "policies = np.zeros((amb_size, state_size), dtype=np.int32)\n",
    "for i in range(amb_size):\n",
    "    reward_history, q_tables[i] = q_learning(graph_env, n_episodes=10000, n_steps=check_steps, learning_rate=0.1, \n",
    "                                  gamma=check_gamma, epsilon_min=0.1, epsilon=1, epsilon_decay=0.95, chosen_ambiguity=i)\n",
    "    policies[i] = np.argmax(q_tables[i], axis=1)\n",
    "    rewards.append(reward_history)\n",
    "    #plt.plot(reward_history)\n",
    "    #plt.show()"
   ],
   "metadata": {
    "collapsed": false,
    "ExecuteTime": {
     "end_time": "2023-11-29T21:19:13.163139688Z",
     "start_time": "2023-11-29T21:15:25.758910560Z"
    }
   },
   "id": "7ccac0f37990d332"
  },
  {
   "cell_type": "code",
   "execution_count": 5,
   "outputs": [
    {
     "name": "stdout",
     "output_type": "stream",
     "text": [
      "Probability of going from (0, 0) (ambiguity zero, state zero) to other states with action 0:\n",
      "1.0\n"
     ]
    }
   ],
   "source": [
    "class BigMDPEnv:\n",
    "    def __init__(self, env: GraphRMDPEnv):\n",
    "        self.state_size = env.ambiguity_size * env.state_size\n",
    "        self.action_size = env.action_size\n",
    "\n",
    "        self.location = None\n",
    "        self.rmdp_env = env\n",
    "        self.transition = np.zeros((env.ambiguity_size, env.state_size, env.action_size, env.ambiguity_size, env.state_size))\n",
    "        for amb_src in range(env.ambiguity_size):\n",
    "            for state_src in range(env.state_size):\n",
    "                for action in range(env.action_size):\n",
    "                    for amb_dst in range(env.ambiguity_size):\n",
    "                        for state_dst in range(env.state_size):\n",
    "                            self.transition[amb_src, state_src, action, amb_dst, state_dst] = (\n",
    "                                env.ambiguity_set[amb_dst, action, state_src, state_dst] *\n",
    "                                env.ambiguity_probs[amb_dst]\n",
    "                            )\n",
    "        self.reshaped_transition = self.transition.reshape((env.ambiguity_size, env.state_size, env.action_size, -1))\n",
    "\n",
    "    def reset(self):\n",
    "        chosen_ambiguity = np.random.choice(self.rmdp_env.ambiguity_size, 1, p=self.rmdp_env.ambiguity_probs)[0]\n",
    "        self.location = (chosen_ambiguity, 0)\n",
    "        return self.location[0] * self.rmdp_env.state_size + self.location[1]\n",
    "\n",
    "    def step(self, action):\n",
    "        next_states_prob = self.reshaped_transition[self.location[0], self.location[1], action]\n",
    "        next_state = np.random.choice(self.state_size, 1, p=next_states_prob)[0]\n",
    "        next_location = (next_state // self.rmdp_env.state_size, next_state % self.rmdp_env.ambiguity_size)\n",
    "        reward = self.rmdp_env.rewards[action, self.location[1], next_location[1]]  # doesn't depend on ambiguity\n",
    "        self.location = next_location\n",
    "        return next_state, reward\n",
    "    \n",
    "print('Probability of going from (0, 0) (ambiguity zero, state zero) to other states with action 0:')\n",
    "print(BigMDPEnv(graph_env).transition[0, 0, 1].sum()) # making sure the definition makes sense (this should be equal to 1)"
   ],
   "metadata": {
    "collapsed": false,
    "ExecuteTime": {
     "end_time": "2023-11-29T21:19:13.170437750Z",
     "start_time": "2023-11-29T21:19:13.162683771Z"
    }
   },
   "id": "fda1a08aff10407e"
  },
  {
   "cell_type": "code",
   "execution_count": 6,
   "outputs": [
    {
     "name": "stderr",
     "output_type": "stream",
     "text": [
      "100%|██████████| 10000/10000 [00:45<00:00, 219.43it/s]\n"
     ]
    },
    {
     "data": {
      "text/plain": "<Figure size 640x480 with 1 Axes>",
      "image/png": "[encoded data removed]"
     },
     "metadata": {},
     "output_type": "display_data"
    }
   ],
   "source": [
    "big_mdp_env = BigMDPEnv(graph_env)\n",
    "\n",
    "# best policy for big mdp\n",
    "big_rewards, big_q_table = q_learning(big_mdp_env, n_episodes=10000, n_steps=check_steps, learning_rate=0.1, \n",
    "                              gamma=check_gamma, epsilon_min=0.1, epsilon=1, epsilon_decay=0.95)\n",
    "big_policy = np.argmax(big_q_table, axis=1).reshape((amb_size, state_size))\n",
    "big_q_table = big_q_table.reshape((amb_size, state_size, act_size))\n",
    "plt.plot(big_rewards)\n",
    "plt.show()"
   ],
   "metadata": {
    "collapsed": false,
    "ExecuteTime": {
     "end_time": "2023-11-29T21:19:58.984806484Z",
     "start_time": "2023-11-29T21:19:13.169100901Z"
    }
   },
   "id": "2ac693f9570792e4"
  },
  {
   "cell_type": "code",
   "execution_count": 7,
   "outputs": [
    {
     "data": {
      "text/plain": "array([[0, 0, 3, 2, 1, 0, 0, 0, 2, 1],\n       [1, 1, 3, 2, 2, 0, 0, 3, 2, 2],\n       [3, 1, 3, 0, 2, 0, 2, 3, 0, 2],\n       [3, 3, 3, 2, 1, 3, 0, 3, 1, 2],\n       [0, 1, 3, 2, 1, 0, 1, 3, 2, 2]])"
     },
     "execution_count": 7,
     "metadata": {},
     "output_type": "execute_result"
    }
   ],
   "source": [
    "big_policy  # calculated for the big MDP"
   ],
   "metadata": {
    "collapsed": false,
    "ExecuteTime": {
     "end_time": "2023-11-29T21:19:58.989509254Z",
     "start_time": "2023-11-29T21:19:58.953796708Z"
    }
   },
   "id": "611344e22d1e6150"
  },
  {
   "cell_type": "code",
   "execution_count": 8,
   "outputs": [
    {
     "data": {
      "text/plain": "array([[0, 2, 3, 2, 2, 0, 0, 2, 3, 3],\n       [3, 2, 3, 0, 2, 3, 3, 2, 3, 3],\n       [0, 1, 3, 0, 2, 0, 2, 2, 3, 3],\n       [0, 2, 3, 0, 2, 1, 2, 2, 3, 1],\n       [1, 1, 3, 0, 2, 0, 3, 2, 0, 1]], dtype=int32)"
     },
     "execution_count": 8,
     "metadata": {},
     "output_type": "execute_result"
    }
   ],
   "source": [
    "policies  # calculated for each of ambiguity set distributions independently"
   ],
   "metadata": {
    "collapsed": false,
    "ExecuteTime": {
     "end_time": "2023-11-29T21:19:59.019944635Z",
     "start_time": "2023-11-29T21:19:58.954164608Z"
    }
   },
   "id": "9389d700c7e817fa"
  },
  {
   "cell_type": "code",
   "execution_count": 9,
   "outputs": [],
   "source": [
    "def evaluate_policy_reward(env: GraphRMDPEnv, n_episodes, policy, n_steps):\n",
    "    all_rewards = []\n",
    "    for episode in tqdm(range(n_episodes)):\n",
    "        ambiguity = np.random.choice(env.ambiguity_size, 1, p=env.ambiguity_probs)[0]\n",
    "        state = env.reset(chosen_ambiguity=ambiguity)\n",
    "        episode_reward = 0\n",
    "        for i in range(n_steps):\n",
    "            action = np.random.choice(env.action_size, 1, p=policy[state, :])[0]\n",
    "            state, reward = env.step(action)\n",
    "            episode_reward += reward\n",
    "        all_rewards.append(episode_reward)\n",
    "    return all_rewards\n",
    "\n",
    "big_avg_policy = np.zeros((state_size, act_size))\n",
    "independent_avg_policies = np.zeros((state_size, act_size))\n",
    "for s in range(state_size):\n",
    "    for amb in range(amb_size):\n",
    "        big_avg_policy[s, big_policy[amb, s]] += graph_env.ambiguity_probs[amb]\n",
    "        independent_avg_policies[s, policies[amb, s]] += graph_env.ambiguity_probs[amb]"
   ],
   "metadata": {
    "collapsed": false,
    "ExecuteTime": {
     "end_time": "2023-11-29T21:19:59.061800750Z",
     "start_time": "2023-11-29T21:19:59.003565445Z"
    }
   },
   "id": "9d9d42b10c6a40ec"
  },
  {
   "cell_type": "code",
   "execution_count": 10,
   "outputs": [
    {
     "name": "stderr",
     "output_type": "stream",
     "text": [
      "100%|██████████| 10000/10000 [01:00<00:00, 164.91it/s]\n"
     ]
    }
   ],
   "source": [
    "big_avg_rewards = evaluate_policy_reward(graph_env, 10000, big_avg_policy, 100)"
   ],
   "metadata": {
    "collapsed": false,
    "ExecuteTime": {
     "end_time": "2023-11-29T21:20:59.690218757Z",
     "start_time": "2023-11-29T21:19:59.049791076Z"
    }
   },
   "id": "dc512bb6b636224b"
  },
  {
   "cell_type": "code",
   "execution_count": 11,
   "outputs": [
    {
     "name": "stderr",
     "output_type": "stream",
     "text": [
      "100%|██████████| 10000/10000 [01:00<00:00, 166.57it/s]\n"
     ]
    }
   ],
   "source": [
    "independent_avg_rewards = evaluate_policy_reward(graph_env, 10000, independent_avg_policies, 100)"
   ],
   "metadata": {
    "collapsed": false,
    "ExecuteTime": {
     "end_time": "2023-11-29T21:21:59.727116583Z",
     "start_time": "2023-11-29T21:20:59.689794113Z"
    }
   },
   "id": "611ef249e1b83a8b"
  },
  {
   "cell_type": "code",
   "execution_count": 13,
   "outputs": [
    {
     "data": {
      "text/plain": "13.925989451632748"
     },
     "execution_count": 13,
     "metadata": {},
     "output_type": "execute_result"
    }
   ],
   "source": [
    "np.var(big_avg_rewards)"
   ],
   "metadata": {
    "collapsed": false,
    "ExecuteTime": {
     "end_time": "2023-11-29T21:25:00.883357068Z",
     "start_time": "2023-11-29T21:25:00.828472088Z"
    }
   },
   "id": "93a5b8c8f4a564fc"
  },
  {
   "cell_type": "code",
   "execution_count": 14,
   "outputs": [
    {
     "data": {
      "text/plain": "8.647052676524206"
     },
     "execution_count": 14,
     "metadata": {},
     "output_type": "execute_result"
    }
   ],
   "source": [
    "np.var(independent_avg_rewards)"
   ],
   "metadata": {
    "collapsed": false,
    "ExecuteTime": {
     "end_time": "2023-11-29T21:25:16.482837649Z",
     "start_time": "2023-11-29T21:25:16.475092601Z"
    }
   },
   "id": "ef7c33e3e843e14"
  },
  {
   "cell_type": "code",
   "execution_count": 12,
   "outputs": [
    {
     "name": "stdout",
     "output_type": "stream",
     "text": [
      "big avg policy reward:\t\tf49.32951236701233\n",
      "independent avg policy reward:\t\tf60.57033360958714\n"
     ]
    }
   ],
   "source": [
    "print(f'big avg policy reward:\\t\\tf{np.mean(big_avg_rewards)}')\n",
    "print(f'independent avg policy reward:\\t\\tf{np.mean(independent_avg_rewards)}')"
   ],
   "metadata": {
    "collapsed": false,
    "ExecuteTime": {
     "end_time": "2023-11-29T21:21:59.728341405Z",
     "start_time": "2023-11-29T21:21:59.726087623Z"
    }
   },
   "id": "d379c5e1767d1b6c"
  }
 ],
 "metadata": {
  "kernelspec": {
   "display_name": "Python 3",
   "language": "python",
   "name": "python3"
  },
  "language_info": {
   "codemirror_mode": {
    "name": "ipython",
    "version": 2
   },
   "file_extension": ".py",
   "mimetype": "text/x-python",
   "name": "python",
   "nbconvert_exporter": "python",
   "pygments_lexer": "ipython2",
   "version": "2.7.6"
  }
 },
 "nbformat": 4,
 "nbformat_minor": 5
}
