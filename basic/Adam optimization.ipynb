{
 "cells": [
  {
   "cell_type": "code",
   "execution_count": null,
   "metadata": {
    "collapsed": true,
    "pycharm": {
     "name": "#%%\n"
    }
   },
   "outputs": [],
   "source": [
    "import numpy as np\n",
    "\n",
    "class FCLayer:\n",
    "    def __init__(self, input_size, output_size, l2_reg_lambda=0):\n",
    "        self.w = np.random.normal(loc=0, scale=np.sqrt(1 / input_size), size=(output_size, input_size))\n",
    "        self.b = np.zeros((output_size, 1))\n",
    "        self.l2_reg_lambda = l2_reg_lambda\n",
    "        self.layer_input = None\n",
    "        self.sdw = 0 # RMSprop\n",
    "        self.mdw = 0 # Momentum\n",
    "        self.sdb = 0 # RMSprop\n",
    "        self.mdb = 0 # Momentum\n",
    "\n",
    "        self.rmsprop_decay_rate = 0.99\n",
    "        self.momentum_rate = 0.9\n",
    "\n",
    "    def forward(self, layer_input):\n",
    "        self.layer_input = layer_input\n",
    "        return np.dot(self.w, layer_input) + self.b\n",
    "\n",
    "    def backprop(self, layer_error, learning_rate=0.01):\n",
    "        m = layer_error.shape[1]\n",
    "\n",
    "        dw = (np.dot(layer_error, self.layer_input.T) / m + self.l2_reg_lambda * self.w / m)\n",
    "        db = np.sum(layer_error, axis=1, keepdims=True) / m\n",
    "\n",
    "        self.sdb = self.rmsprop_decay_rate * self.sdb + db * db * (1 - self.rmsprop_decay_rate)\n",
    "        self.sdw = self.rmsprop_decay_rate * self.sdw + dw * dw * (1 - self.rmsprop_decay_rate)\n",
    "\n",
    "        self.mdb = self.momentum_rate * self.mdb + db * (1 - self.momentum_rate)\n",
    "        self.mdw = self.momentum_rate * self.mdw + dw * (1 - self.momentum_rate)\n",
    "\n",
    "        self.b -= self.mdb / (np.sqrt(self.sdb) + np.power(10, -8)) * learning_rate\n",
    "        self.w -= self.mdw / (np.sqrt(self.sdw) + np.power(10, -8)) * learning_rate\n",
    "        return np.dot(self.w.T, layer_error)"
   ]
  }
 ],
 "metadata": {
  "kernelspec": {
   "display_name": "Python 3",
   "language": "python",
   "name": "python3"
  },
  "language_info": {
   "codemirror_mode": {
    "name": "ipython",
    "version": 2
   },
   "file_extension": ".py",
   "mimetype": "text/x-python",
   "name": "python",
   "nbconvert_exporter": "python",
   "pygments_lexer": "ipython2",
   "version": "2.7.6"
  }
 },
 "nbformat": 4,
 "nbformat_minor": 0
}