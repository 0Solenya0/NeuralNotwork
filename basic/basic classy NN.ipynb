{
 "cells": [
  {
   "cell_type": "code",
   "execution_count": 7,
   "metadata": {
    "collapsed": true,
    "pycharm": {
     "name": "#%%\n"
    }
   },
   "outputs": [],
   "source": [
    "import numpy as np\n",
    "\n",
    "class FCLayer:\n",
    "    def __init__(self, input_size, output_size):\n",
    "        self.w = np.random.random((output_size, input_size)) - 0.5\n",
    "        self.b = np.zeros((output_size, 1))\n",
    "        self.layer_input = None\n",
    "\n",
    "    def forward(self, layer_input):\n",
    "        self.layer_input = layer_input\n",
    "        return np.dot(self.w, layer_input) + self.b\n",
    "\n",
    "    def backprop(self, layer_error, learning_rate=0.01):\n",
    "        m = layer_error.shape[1]\n",
    "        self.w -= np.dot(layer_error, self.layer_input.T) / m * learning_rate\n",
    "        self.b -= np.sum(layer_error, axis=1, keepdims=True) / m * learning_rate\n",
    "        return np.dot(self.w.T, layer_error)\n",
    "\n",
    "class ActivationLayer:\n",
    "    def __init__(self, func, func_prime):\n",
    "        self.func = func\n",
    "        self.func_prime = func_prime\n",
    "        self.layer_input = None\n",
    "\n",
    "    def forward(self, layer_input):\n",
    "        self.layer_input = layer_input\n",
    "        return self.func(layer_input)\n",
    "\n",
    "    def backprop(self, layer_error, learning_rate=0.01):\n",
    "        return self.func_prime(self.layer_input) * layer_error\n",
    "\n",
    "class NeuralNetwork:\n",
    "    def __init__(self, layers, loss, loss_prime, learning_rate=0.01):\n",
    "        self.layers = layers\n",
    "        self.loss = loss\n",
    "        self.loss_prime = loss_prime\n",
    "        self.learning_rate = learning_rate\n",
    "\n",
    "    def forward(self, x):\n",
    "        res = [x]\n",
    "        for layer in self.layers:\n",
    "            res.append(layer.forward(res[-1]))\n",
    "        return res[-1]\n",
    "\n",
    "    def fit(self, x, y, epochs=100, verbose=100):\n",
    "        for i in range(epochs):\n",
    "            ret = self.forward(x)\n",
    "            loss = self.loss(ret, y)\n",
    "            res = [self.loss_prime(ret, y)]\n",
    "            for layer in reversed(self.layers):\n",
    "                res.append(layer.backprop(res[-1], learning_rate=self.learning_rate))\n",
    "            if i % verbose == 0:\n",
    "                print(f'Loss at epoch {i}: {loss}')"
   ]
  },
  {
   "cell_type": "code",
   "execution_count": 8,
   "outputs": [],
   "source": [
    "relu = lambda x: np.maximum(0, x)\n",
    "drelu = lambda x: 1.0 * (x > 0)\n",
    "\n",
    "sigmoid = lambda x: 1 / (1 + np.exp(-x))\n",
    "dsigmoid = lambda x: sigmoid(x) * (1 - sigmoid(x))\n",
    "\n",
    "tanh = lambda x: np.tanh(x)\n",
    "dtanh = lambda x: 1 - np.tanh(x) ** 2"
   ],
   "metadata": {
    "collapsed": false,
    "pycharm": {
     "name": "#%%\n"
    }
   }
  },
  {
   "cell_type": "code",
   "execution_count": 9,
   "outputs": [
    {
     "name": "stdout",
     "output_type": "stream",
     "text": [
      "Loss at epoch 0: 0.24476246106013447\n",
      "Loss at epoch 5000: 0.16769471696304059\n"
     ]
    },
    {
     "data": {
      "text/plain": "array([[0.33521771, 0.33521771, 0.96548215, 0.33521771]])"
     },
     "execution_count": 9,
     "metadata": {},
     "output_type": "execute_result"
    }
   ],
   "source": [
    "nn = NeuralNetwork(\n",
    "    layers=[\n",
    "        FCLayer(2, 5),\n",
    "        ActivationLayer(relu, drelu),\n",
    "        FCLayer(5, 1),\n",
    "        ActivationLayer(sigmoid, dsigmoid)\n",
    "    ],\n",
    "    loss=lambda p, y: np.sum((p - y) ** 2) / p.shape[1],\n",
    "    loss_prime=lambda p, y: 2 * (p - y) / p.shape[1],\n",
    "    learning_rate=0.1\n",
    ")\n",
    "x_train = np.asarray([0, 0, 1, 1, 0, 1, 0, 1]).reshape((2, 4))\n",
    "y_train = np.asarray([0, 1, 1, 0])\n",
    "nn.fit(x_train, y_train, epochs=10000, verbose=5000)\n",
    "nn.forward(x_train)"
   ],
   "metadata": {
    "collapsed": false,
    "pycharm": {
     "name": "#%%\n"
    }
   }
  },
  {
   "cell_type": "code",
   "execution_count": 10,
   "outputs": [
    {
     "name": "stdout",
     "output_type": "stream",
     "text": [
      "Loss at epoch 0: 2.4869365038325086\n",
      "Loss at epoch 5000: 1.9670505372355482\n",
      "Loss at epoch 10000: 1.5904675230242018\n",
      "Loss at epoch 15000: 1.327894275116316\n",
      "Loss at epoch 20000: 1.1626121408364356\n",
      "Loss at epoch 25000: 1.0645831912047448\n",
      "Loss at epoch 30000: 1.0066036115727266\n",
      "Loss at epoch 35000: 0.9713648206547794\n",
      "Loss at epoch 40000: 0.9491370076100081\n",
      "Loss at epoch 45000: 0.9345829473161235\n",
      "Loss at epoch 50000: 0.9247312722934252\n",
      "Loss at epoch 55000: 0.9178624424001155\n",
      "Loss at epoch 60000: 0.9129542334532686\n",
      "Loss at epoch 65000: 0.9093685243166052\n",
      "Loss at epoch 70000: 0.9066986103722459\n",
      "Loss at epoch 75000: 0.9046775812353098\n",
      "Loss at epoch 80000: 0.9031264906399851\n",
      "Loss at epoch 85000: 0.9019208693450499\n",
      "Loss at epoch 90000: 0.900971948122769\n",
      "Loss at epoch 95000: 0.9002171831395587\n"
     ]
    }
   ],
   "source": [
    "from sklearn.datasets import load_digits\n",
    "import matplotlib.pyplot as plt\n",
    "\n",
    "def as_categorical(x):\n",
    "    t = np.zeros((10, 1))\n",
    "    t[x] = 1\n",
    "    return t\n",
    "\n",
    "digits = load_digits()\n",
    "TRAIN_CNT = 1200\n",
    "x_train = digits.images[:TRAIN_CNT].reshape((TRAIN_CNT, 8 * 8)).T\n",
    "x_train = x_train.astype('float32')\n",
    "x_train /= 255\n",
    "y_train = np.asarray([as_categorical(target) for target in digits.target[:TRAIN_CNT]]).T.reshape((10, TRAIN_CNT))\n",
    "\n",
    "EVAL_CNT = 500\n",
    "x_test = digits.images[TRAIN_CNT:TRAIN_CNT + EVAL_CNT].reshape((EVAL_CNT, 8 * 8)).T\n",
    "x_test = x_test.astype('float32')\n",
    "x_test /= 255\n",
    "y_test = np.asarray([as_categorical(target) for target in digits.target[TRAIN_CNT:TRAIN_CNT + EVAL_CNT]]).T.reshape((10, EVAL_CNT))\n",
    "\n",
    "nn = NeuralNetwork(\n",
    "    layers=[\n",
    "        FCLayer(64, 32),\n",
    "        ActivationLayer(relu, drelu),\n",
    "        FCLayer(32, 16),\n",
    "        ActivationLayer(tanh, dtanh),\n",
    "        FCLayer(16, 10),\n",
    "        ActivationLayer(sigmoid, dsigmoid)\n",
    "    ],\n",
    "    loss=lambda p, y: np.sum((p - y) ** 2) / p.shape[1],\n",
    "    loss_prime=lambda p, y: 2 * (p - y) / p.shape[1],\n",
    "    learning_rate=0.1\n",
    ")\n",
    "nn.fit(x_train, y_train, epochs=100000, verbose=5000)"
   ],
   "metadata": {
    "collapsed": false,
    "pycharm": {
     "name": "#%%\n"
    }
   }
  }
 ],
 "metadata": {
  "kernelspec": {
   "display_name": "Python 3",
   "language": "python",
   "name": "python3"
  },
  "language_info": {
   "codemirror_mode": {
    "name": "ipython",
    "version": 2
   },
   "file_extension": ".py",
   "mimetype": "text/x-python",
   "name": "python",
   "nbconvert_exporter": "python",
   "pygments_lexer": "ipython2",
   "version": "2.7.6"
  }
 },
 "nbformat": 4,
 "nbformat_minor": 0
}