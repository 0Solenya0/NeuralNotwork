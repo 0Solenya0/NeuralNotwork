{
 "cells": [
  {
   "cell_type": "code",
   "execution_count": 71,
   "metadata": {
    "collapsed": true,
    "pycharm": {
     "name": "#%%\n"
    }
   },
   "outputs": [],
   "source": [
    "import numpy as np\n",
    "\n",
    "class FCLayer:\n",
    "    def __init__(self, input_size, output_size):\n",
    "        self.w = np.random.random((output_size, input_size)) - 0.5\n",
    "        self.b = np.zeros((output_size, 1))\n",
    "        self.layer_input = None\n",
    "\n",
    "    def forward(self, layer_input):\n",
    "        self.layer_input = layer_input\n",
    "        return np.dot(self.w, layer_input) + self.b\n",
    "\n",
    "    def backprop(self, layer_error, learning_rate=0.01):\n",
    "        m = layer_error.shape[1]\n",
    "        self.w -= np.dot(layer_error, self.layer_input.T) / m * learning_rate\n",
    "        self.b -= np.sum(layer_error, axis=1, keepdims=True) / m * learning_rate\n",
    "        return np.dot(self.w.T, layer_error)\n",
    "\n",
    "class ActivationLayer:\n",
    "    def __init__(self, func, func_prime):\n",
    "        self.func = func\n",
    "        self.func_prime = func_prime\n",
    "        self.layer_input = None\n",
    "\n",
    "    def forward(self, layer_input):\n",
    "        self.layer_input = layer_input\n",
    "        return self.func(layer_input)\n",
    "\n",
    "    def backprop(self, layer_error, learning_rate=0.01):\n",
    "        return self.func_prime(self.layer_input) * layer_error\n",
    "\n",
    "class NeuralNetwork:\n",
    "    def __init__(self, layers, loss, loss_prime, learning_rate=0.01):\n",
    "        self.layers = layers\n",
    "        self.loss = loss\n",
    "        self.loss_prime = loss_prime\n",
    "        self.learning_rate = learning_rate\n",
    "\n",
    "    def forward(self, x):\n",
    "        res = [x]\n",
    "        for layer in self.layers:\n",
    "            res.append(layer.forward(res[-1]))\n",
    "        return res[-1]\n",
    "\n",
    "    def fit(self, x, y, epochs=100, verbose=100):\n",
    "        for i in range(epochs):\n",
    "            ret = self.forward(x)\n",
    "            loss = self.loss(ret, y)\n",
    "            res = [self.loss_prime(ret, y)]\n",
    "            for layer in reversed(self.layers):\n",
    "                res.append(layer.backprop(res[-1], learning_rate=self.learning_rate))\n",
    "            if i % verbose == 0:\n",
    "                print(f'Loss at epoch {i}: {loss}')"
   ]
  },
  {
   "cell_type": "code",
   "execution_count": 72,
   "outputs": [],
   "source": [
    "relu = lambda x: np.maximum(0, x)\n",
    "drelu = lambda x: 1.0 * (x > 0)\n",
    "\n",
    "sigmoid = lambda x: 1 / (1 + np.exp(-x))\n",
    "dsigmoid = lambda x: sigmoid(x) * (1 - sigmoid(x))\n",
    "\n",
    "\n",
    "nn = NeuralNetwork(\n",
    "    layers=[\n",
    "        FCLayer(2, 5),\n",
    "        ActivationLayer(relu, drelu),\n",
    "        FCLayer(5, 1),\n",
    "        ActivationLayer(sigmoid, dsigmoid)\n",
    "    ],\n",
    "    loss=lambda p, y: np.sum((p - y) ** 2) / p.shape[1],\n",
    "    loss_prime=lambda p, y: 2 * (p - y) / p.shape[1],\n",
    "    learning_rate=0.1\n",
    ")"
   ],
   "metadata": {
    "collapsed": false,
    "pycharm": {
     "name": "#%%\n"
    }
   }
  },
  {
   "cell_type": "code",
   "execution_count": 73,
   "outputs": [
    {
     "name": "stdout",
     "output_type": "stream",
     "text": [
      "Loss at epoch 0: 0.23993651737074878\n",
      "Loss at epoch 5000: 0.010232838719829846\n"
     ]
    }
   ],
   "source": [
    "x_train = np.asarray([0, 0, 1, 1, 0, 1, 0, 1]).reshape((2, 4))\n",
    "y_train = np.asarray([0, 1, 1, 0])\n",
    "nn.fit(x_train, y_train, epochs=10000, verbose=5000)"
   ],
   "metadata": {
    "collapsed": false,
    "pycharm": {
     "name": "#%%\n"
    }
   }
  },
  {
   "cell_type": "code",
   "execution_count": 74,
   "outputs": [
    {
     "data": {
      "text/plain": "array([[0.07079301, 0.95947343, 0.95942056, 0.07079326]])"
     },
     "execution_count": 74,
     "metadata": {},
     "output_type": "execute_result"
    }
   ],
   "source": [
    "nn.forward(x_train)"
   ],
   "metadata": {
    "collapsed": false,
    "pycharm": {
     "name": "#%%\n"
    }
   }
  }
 ],
 "metadata": {
  "kernelspec": {
   "display_name": "Python 3",
   "language": "python",
   "name": "python3"
  },
  "language_info": {
   "codemirror_mode": {
    "name": "ipython",
    "version": 2
   },
   "file_extension": ".py",
   "mimetype": "text/x-python",
   "name": "python",
   "nbconvert_exporter": "python",
   "pygments_lexer": "ipython2",
   "version": "2.7.6"
  }
 },
 "nbformat": 4,
 "nbformat_minor": 0
}