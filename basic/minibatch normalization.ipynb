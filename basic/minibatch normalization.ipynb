{
 "cells": [
  {
   "cell_type": "code",
   "execution_count": 56,
   "metadata": {
    "collapsed": true,
    "pycharm": {
     "name": "#%%\n"
    }
   },
   "outputs": [],
   "source": [
    "from torch import nn, Tensor\n",
    "import torch\n",
    "\n",
    "# just for learning already available at nn.BatchNorm1d\n",
    "class MiniBatchNormalization(nn.Module):\n",
    "    def __init__(self, input_dim):\n",
    "        super().__init__()\n",
    "        self.mean = 0\n",
    "        self.var = 0\n",
    "        self.exp_rate = 0.99\n",
    "        self.gamma = nn.Parameter(torch.zeros(input_dim))\n",
    "        self.beta = nn.Parameter(torch.zeros(input_dim))\n",
    "        self.is_training = True\n",
    "\n",
    "    def forward(self, inp: Tensor):\n",
    "        if self.is_training:\n",
    "            _mean = torch.mean(inp, dim=1, keepdim=True)\n",
    "            _var = torch.var(inp, dim=1, keepdim=True)\n",
    "            self.mean = self.exp_rate * self.mean + (1 - self.exp_rate) * _mean\n",
    "            self.var = self.exp_rate * self.var + (1 - self.exp_rate) * _var\n",
    "        else:\n",
    "            _mean = self.mean\n",
    "            _var = self.var\n",
    "\n",
    "        normed = (inp - _mean) / (torch.sqrt(_var) + (10 ** -8))\n",
    "        return self.gamma * normed + self.beta"
   ]
  }
 ],
 "metadata": {
  "kernelspec": {
   "display_name": "Python 3",
   "language": "python",
   "name": "python3"
  },
  "language_info": {
   "codemirror_mode": {
    "name": "ipython",
    "version": 2
   },
   "file_extension": ".py",
   "mimetype": "text/x-python",
   "name": "python",
   "nbconvert_exporter": "python",
   "pygments_lexer": "ipython2",
   "version": "2.7.6"
  }
 },
 "nbformat": 4,
 "nbformat_minor": 0
}