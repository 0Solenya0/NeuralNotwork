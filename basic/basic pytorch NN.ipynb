{
 "cells": [
  {
   "cell_type": "code",
   "execution_count": null,
   "metadata": {
    "collapsed": true,
    "pycharm": {
     "name": "#%%\n",
     "is_executing": true
    }
   },
   "outputs": [],
   "source": [
    "from torch import nn\n",
    "import torch\n",
    "\n",
    "device = torch.device('cuda' if torch.cuda.is_available() else 'cpu')\n",
    "x_train = torch.tensor([[0., 0.], [0., 1.], [1., 0.], [1., 1.]]).to(device)\n",
    "y_train = torch.tensor([0., 1., 1., 0.]).reshape((4, 1)).to(device)\n",
    "\n",
    "\n",
    "class NeuralNetwork(nn.Module):\n",
    "    def __init__(self):\n",
    "        super().__init__()\n",
    "        self.seq = nn.Sequential(\n",
    "            nn.Linear(in_features=2, out_features=3),\n",
    "            nn.ReLU(),\n",
    "            nn.Linear(in_features=3, out_features=1),\n",
    "            nn.Sigmoid()\n",
    "        )\n",
    "\n",
    "    def forward(self, x):\n",
    "        return self.seq(x)\n",
    "\n",
    "\n",
    "def train(m: NeuralNetwork, x, y, epochs=10000):\n",
    "    optimizer = torch.optim.SGD(m.parameters(), lr=0.1)\n",
    "    for i in range(epochs):\n",
    "        y_pred = model(x_train)\n",
    "\n",
    "        loss = torch.nn.BCELoss()(y_pred, y)\n",
    "        optimizer.zero_grad()\n",
    "        loss.backward()\n",
    "        optimizer.step()\n",
    "\n",
    "model = NeuralNetwork().to(device)\n",
    "train(model, x_train, y_train)"
   ]
  },
  {
   "cell_type": "code",
   "execution_count": null,
   "outputs": [],
   "source": [
    "print('loss:', torch.nn.BCELoss()(model(x_train), y_train).item())\n",
    "print('res:', model(x_train).detach().cpu().numpy())"
   ],
   "metadata": {
    "collapsed": false,
    "pycharm": {
     "name": "#%%\n",
     "is_executing": true
    }
   }
  },
  {
   "cell_type": "code",
   "execution_count": null,
   "outputs": [],
   "source": [
    "import numpy as np\n",
    "from sklearn.datasets import load_digits\n",
    "\n",
    "def as_categorical(x):\n",
    "    t = np.zeros((10, 1))\n",
    "    t[x] = 1\n",
    "    return t\n",
    "\n",
    "model = nn.Sequential(\n",
    "    nn.Linear(in_features=8 * 8, out_features=20),\n",
    "    nn.ReLU(),\n",
    "    nn.Linear(in_features=20, out_features=10),\n",
    "    nn.ReLU(),\n",
    "    nn.Linear(in_features=10, out_features=10),\n",
    "    nn.Softmax(dim=1)\n",
    ")\n",
    "\n",
    "digits = load_digits()\n",
    "n = len(digits.images)\n",
    "x_all = torch.from_numpy(digits.images).reshape(n, -1).to(torch.float) / 255\n",
    "y_all = torch.from_numpy(np.asarray([as_categorical(target) for target in digits.target])).reshape(n, 10).to(torch.float)\n",
    "TRAIN_CNT = 1000\n",
    "EVAL_CNT = n - TRAIN_CNT\n",
    "x_train = x_all[:TRAIN_CNT]\n",
    "x_test = x_all[TRAIN_CNT:TRAIN_CNT + EVAL_CNT]\n",
    "\n",
    "y_train = y_all[:TRAIN_CNT]\n",
    "y_test = y_all[TRAIN_CNT:TRAIN_CNT + EVAL_CNT]\n",
    "\n",
    "def train(m: NeuralNetwork, x, y, epochs=10000):\n",
    "    optimizer = torch.optim.Adam(m.parameters())\n",
    "    for i in range(epochs):\n",
    "        y_pred = model(x)\n",
    "        loss = torch.nn.CrossEntropyLoss()(y_pred, y)\n",
    "        optimizer.zero_grad()\n",
    "        loss.backward()\n",
    "        optimizer.step()\n",
    "        if i % 1000 == 0:\n",
    "            print(loss.item())\n",
    "\n",
    "train(model, x_train, y_train, epochs=10000)"
   ],
   "metadata": {
    "collapsed": false,
    "pycharm": {
     "name": "#%%\n",
     "is_executing": true
    }
   }
  },
  {
   "cell_type": "code",
   "execution_count": null,
   "outputs": [],
   "source": [
    "with torch.no_grad():\n",
    "    y_pred = model(x_test)\n",
    "    y_pred = torch.argmax(y_pred, dim=1)\n",
    "    y_real = torch.argmax(y_test, dim=1)\n",
    "    cor = (y_pred == y_real).sum().item()\n",
    "    wa = len(y_real) - cor\n",
    "    print(f'accuracy: {cor / y_real.shape[0]}')"
   ],
   "metadata": {
    "collapsed": false,
    "pycharm": {
     "name": "#%%\n",
     "is_executing": true
    }
   }
  }
 ],
 "metadata": {
  "kernelspec": {
   "display_name": "Python 3",
   "language": "python",
   "name": "python3"
  },
  "language_info": {
   "codemirror_mode": {
    "name": "ipython",
    "version": 2
   },
   "file_extension": ".py",
   "mimetype": "text/x-python",
   "name": "python",
   "nbconvert_exporter": "python",
   "pygments_lexer": "ipython2",
   "version": "2.7.6"
  }
 },
 "nbformat": 4,
 "nbformat_minor": 0
}