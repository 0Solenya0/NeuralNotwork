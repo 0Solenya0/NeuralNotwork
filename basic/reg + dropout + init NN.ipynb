{
 "cells": [
  {
   "cell_type": "code",
   "execution_count": 3,
   "metadata": {
    "collapsed": true,
    "pycharm": {
     "name": "#%%\n"
    }
   },
   "outputs": [],
   "source": [
    "import numpy as np\n",
    "\n",
    "# should be turned off on testing (only on training)\n",
    "class DropoutLayer:\n",
    "    def __init__(self, dropout_rate):\n",
    "        self.dropout_rate = dropout_rate\n",
    "        self.drop_layer = None\n",
    "\n",
    "    def forward(self, layer_input):\n",
    "        self.drop_layer = np.random.random(layer_input.shape) < self.dropout_rate\n",
    "        return (layer_input * self.drop_layer) / self.dropout_rate\n",
    "\n",
    "    def backprop(self, output_error):\n",
    "        return self.drop_layer * output_error / self.dropout_rate\n",
    "\n",
    "\n",
    "class FCLayer:\n",
    "    def __init__(self, input_size, output_size, l2_reg_lambda=0):\n",
    "        self.w = np.random.normal(loc=0, scale=np.sqrt(1 / input_size), size=(output_size, input_size))\n",
    "        self.b = np.zeros((output_size, 1))\n",
    "        self.l2_reg_lambda = l2_reg_lambda\n",
    "        self.layer_input = None\n",
    "\n",
    "    def forward(self, layer_input):\n",
    "        self.layer_input = layer_input\n",
    "        return np.dot(self.w, layer_input) + self.b\n",
    "\n",
    "    def backprop(self, layer_error, learning_rate=0.01):\n",
    "        m = layer_error.shape[1]\n",
    "        self.w -= (np.dot(layer_error, self.layer_input.T) / m + self.l2_reg_lambda * self.w / m) * learning_rate\n",
    "        self.b -= np.sum(layer_error, axis=1, keepdims=True) / m * learning_rate\n",
    "        return np.dot(self.w.T, layer_error)"
   ]
  }
 ],
 "metadata": {
  "kernelspec": {
   "display_name": "Python 3",
   "language": "python",
   "name": "python3"
  },
  "language_info": {
   "codemirror_mode": {
    "name": "ipython",
    "version": 2
   },
   "file_extension": ".py",
   "mimetype": "text/x-python",
   "name": "python",
   "nbconvert_exporter": "python",
   "pygments_lexer": "ipython2",
   "version": "2.7.6"
  }
 },
 "nbformat": 4,
 "nbformat_minor": 0
}