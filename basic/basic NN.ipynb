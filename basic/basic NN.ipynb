{
 "cells": [
  {
   "cell_type": "code",
   "execution_count": 1,
   "metadata": {
    "collapsed": true,
    "pycharm": {
     "name": "#%%\n"
    }
   },
   "outputs": [],
   "source": [
    "import numpy as np\n",
    "\n",
    "def relu(x):\n",
    "    return np.maximum(np.zeros(x.shape), x)\n",
    "\n",
    "def drelu(x):\n",
    "    return 1.0 * (x > 0)\n",
    "\n",
    "def sigmoid(x):\n",
    "    return 1 / (1 + np.exp(-x))\n",
    "\n",
    "def dsigmoid(x):\n",
    "    return sigmoid(x) * sigmoid(1 - x)\n",
    "\n",
    "relu.der = drelu\n",
    "sigmoid.der = dsigmoid\n",
    "\n",
    "input_dim = 2\n",
    "layers = [2, 1]\n",
    "activations = [relu, sigmoid]"
   ]
  },
  {
   "cell_type": "code",
   "execution_count": 2,
   "outputs": [],
   "source": [
    "w = []\n",
    "b = []\n",
    "for i in range(len(layers)):\n",
    "    w.append(np.random.random((layers[i], layers[i - 1] if i - 1 >= 0 else input_dim)))\n",
    "    b.append(np.zeros((layers[i], 1)))\n",
    "\n",
    "def forward(x):\n",
    "    assert x.shape == (input_dim, 1)\n",
    "    z = [0]\n",
    "    a = [x]\n",
    "    for i in range(len(layers)):\n",
    "        z.append(np.dot(w[i], a[-1]) + b[i])\n",
    "        a.append(activations[i](z[-1]))\n",
    "    return z, a\n",
    "\n",
    "def backprop(z, a, y, learning_rate=0.05):\n",
    "    loss = np.sum((a[-1] - y) ** 2) / 2\n",
    "\n",
    "    da = [0 for i in range(len(layers) + 1)]\n",
    "    db = [0 for i in range(len(layers) + 1)]\n",
    "    dz = [0 for i in range(len(layers) + 1)]\n",
    "    dw = [0 for i in range(len(layers) + 1)]\n",
    "    da[-1] = a[-1] - y\n",
    "\n",
    "    for ri in reversed(range(len(layers) + 1)):\n",
    "        if ri == 0:\n",
    "            break\n",
    "        dz[ri] = activations[ri - 1].der(z[ri]) * da[ri]\n",
    "        dw[ri] = np.dot(dz[ri], a[ri - 1].T)\n",
    "        db[ri] = dz[ri]\n",
    "        da[ri - 1] = np.dot(w[ri - 1].T, dz[ri])\n",
    "\n",
    "        w[ri - 1] -= dw[ri] * learning_rate\n",
    "        b[ri - 1] -= db[ri] * learning_rate"
   ],
   "metadata": {
    "collapsed": false,
    "pycharm": {
     "name": "#%%\n"
    }
   }
  },
  {
   "cell_type": "code",
   "execution_count": 3,
   "outputs": [],
   "source": [
    "import numpy as np\n",
    "\n",
    "# training data\n",
    "x_train = np.asarray([[[0,0]], [[0,1]], [[1,0]], [[1,1]]])\n",
    "y_train = np.asarray([[[0]], [[1]], [[1]], [[0]]])\n",
    "\n",
    "for i in range(100000):\n",
    "    z, a = forward(x_train[i % 4].reshape(2, 1))\n",
    "    backprop(z, a, y_train[i % 4].reshape(1, 1))"
   ],
   "metadata": {
    "collapsed": false,
    "pycharm": {
     "name": "#%%\n"
    }
   }
  },
  {
   "cell_type": "code",
   "execution_count": 4,
   "outputs": [
    {
     "name": "stdout",
     "output_type": "stream",
     "text": [
      "[[0.02515469]]\n",
      "[[0.99300961]]\n",
      "[[0.99300732]]\n",
      "[[0.00957893]]\n"
     ]
    }
   ],
   "source": [
    "for i in range(4):\n",
    "    print(forward(x_train[i].reshape(2, 1))[1][-1])"
   ],
   "metadata": {
    "collapsed": false,
    "pycharm": {
     "name": "#%%\n"
    }
   }
  }
 ],
 "metadata": {
  "kernelspec": {
   "display_name": "Python 3",
   "language": "python",
   "name": "python3"
  },
  "language_info": {
   "codemirror_mode": {
    "name": "ipython",
    "version": 2
   },
   "file_extension": ".py",
   "mimetype": "text/x-python",
   "name": "python",
   "nbconvert_exporter": "python",
   "pygments_lexer": "ipython2",
   "version": "2.7.6"
  }
 },
 "nbformat": 4,
 "nbformat_minor": 0
}